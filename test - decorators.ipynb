{
 "cells": [
  {
   "cell_type": "code",
   "execution_count": 1,
   "metadata": {},
   "outputs": [],
   "source": [
    "## Decorators training\n",
    "# createa decorator\n",
    "# "
   ]
  },
  {
   "cell_type": "code",
   "execution_count": 2,
   "metadata": {},
   "outputs": [],
   "source": [
    "from time import sleep\n",
    "\n",
    "def long_fun2():\n",
    "    print(\"begin fun 2\")\n",
    "    sleep(3)\n",
    "    print('end fun 2')\n",
    "\n",
    "def long_fun():\n",
    "    print(\"begin fun\")\n",
    "    sleep(3)\n",
    "    print('end fun')"
   ]
  },
  {
   "cell_type": "code",
   "execution_count": 4,
   "metadata": {},
   "outputs": [
    {
     "name": "stdout",
     "output_type": "stream",
     "text": [
      "begin fun\n",
      "end fun\n",
      "3.0050511360168457\n"
     ]
    }
   ],
   "source": [
    "from time import time\n",
    "\n",
    "a = time()\n",
    "long_fun()\n",
    "b= time()\n",
    "\n",
    "print(b-a)"
   ]
  },
  {
   "cell_type": "markdown",
   "metadata": {},
   "source": [
    "## timing decorator\n"
   ]
  },
  {
   "cell_type": "markdown",
   "metadata": {},
   "source": [
    "Create a decorator that times the execution of a function and prints the time taken for execution. Use the time module to calculate the time taken. Here is an outline of the decorator:\n",
    "\n",
    "\n"
   ]
  },
  {
   "cell_type": "code",
   "execution_count": 11,
   "metadata": {},
   "outputs": [],
   "source": [
    "import time\n",
    "\n",
    "def timer(func):\n",
    "    def wrapper(*args, **kwargs):\n",
    "        start_time = time.time()\n",
    "        result = func(*args, **kwargs)\n",
    "        end_time = time.time()\n",
    "        print(f\"Time taken: {end_time - start_time:.6f}s\")\n",
    "        return result\n",
    "    return wrapper\n",
    "\n",
    "\n",
    "@timer\n",
    "def my_function(l):\n",
    "    # code to be timedExercise 2: Authentication decorator\n",
    "    print(\"hi\")\n",
    "    print(l)\n",
    "    time.sleep(2)\n",
    "    "
   ]
  },
  {
   "cell_type": "code",
   "execution_count": 12,
   "metadata": {},
   "outputs": [
    {
     "name": "stdout",
     "output_type": "stream",
     "text": [
      "hi\n",
      "1\n",
      "Time taken: 2.003697s\n"
     ]
    }
   ],
   "source": [
    "my_function(1)"
   ]
  },
  {
   "cell_type": "markdown",
   "metadata": {},
   "source": [
    "Create a decorator that authenticates a user before allowing them to execute a function. Assume that there is a function `authenticate_user(username, password)` that returns `True` if the username and password are valid, and `False` otherwise. Here is an outline of the decorator:\n",
    "\n"
   ]
  },
  {
   "cell_type": "code",
   "execution_count": 11,
   "metadata": {},
   "outputs": [],
   "source": [
    "def authenticate_user(username, password):\n",
    "    if username == \"admin\" and password == \"admin\":\n",
    "        return True\n",
    "    return False\n",
    "\n",
    "def request():\n",
    "    return {\"username\": \"admin\", \"password\": \"admin\", }\n",
    "\n",
    "def authenticate(func):\n",
    "    def wrapper(*args, **kwargs):\n",
    "        username = request()[\"username\"]\n",
    "        password = request()[\"password\"]\n",
    "        \n",
    "        if authenticate_user(username, password):\n",
    "            result = func(*args, **kwargs)\n",
    "            return result\n",
    "        else:\n",
    "            print(\"Authentication failed!\")\n",
    "            return None\n",
    "    return wrapper\n",
    "\n",
    "@authenticate\n",
    "def message_friends(username):\n",
    "    print(\"message has been sent\")"
   ]
  },
  {
   "cell_type": "code",
   "execution_count": 14,
   "metadata": {},
   "outputs": [
    {
     "name": "stdout",
     "output_type": "stream",
     "text": [
      "Authentication failed!\n"
     ]
    }
   ],
   "source": [
    "\n",
    "message_friends(\"admin\")"
   ]
  },
  {
   "cell_type": "code",
   "execution_count": 18,
   "metadata": {},
   "outputs": [],
   "source": [
    "\n",
    "def logger(log_level, log_file=None):\n",
    "    def decorator(func):\n",
    "        def wrapper(*args, **kwargs):\n",
    "            # Log the function execution with the specified log level and log file\n",
    "            # You can use the logging module to log messages\n",
    "            print(\"log level \", log_level)\n",
    "            result = func(*args, **kwargs)\n",
    "            return result\n",
    "        return wrapper\n",
    "    return decorator"
   ]
  },
  {
   "cell_type": "code",
   "execution_count": 19,
   "metadata": {},
   "outputs": [],
   "source": [
    "@logger(log_level=\"INFO\", log_file=\"my_log_file.txt\")\n",
    "def my_function():\n",
    "    # code to be executed\n",
    "    print(\"my fun info\")\n",
    "\n",
    "@logger(log_level=\"WARNING\")\n",
    "def my_function2():\n",
    "    # code to be executed\n",
    "    print(\"my fun warning\")"
   ]
  },
  {
   "cell_type": "code",
   "execution_count": 20,
   "metadata": {},
   "outputs": [
    {
     "name": "stdout",
     "output_type": "stream",
     "text": [
      "log level  INFO\n",
      "my fun info\n",
      "log level  WARNING\n",
      "my fun warning\n"
     ]
    }
   ],
   "source": [
    "my_function()\n",
    "my_function2()"
   ]
  },
  {
   "cell_type": "code",
   "execution_count": null,
   "metadata": {},
   "outputs": [],
   "source": []
  }
 ],
 "metadata": {
  "kernelspec": {
   "display_name": "env",
   "language": "python",
   "name": "python3"
  },
  "language_info": {
   "codemirror_mode": {
    "name": "ipython",
    "version": 3
   },
   "file_extension": ".py",
   "mimetype": "text/x-python",
   "name": "python",
   "nbconvert_exporter": "python",
   "pygments_lexer": "ipython3",
   "version": "3.8.10"
  },
  "orig_nbformat": 4
 },
 "nbformat": 4,
 "nbformat_minor": 2
}
